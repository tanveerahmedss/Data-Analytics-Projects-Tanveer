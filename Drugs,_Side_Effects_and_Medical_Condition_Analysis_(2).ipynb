{
  "cells": [
    {
      "cell_type": "markdown",
      "metadata": {
        "id": "view-in-github",
        "colab_type": "text"
      },
      "source": [
        "<a href=\"https://colab.research.google.com/github/tanveerahmedss/Drugs-Side-Effects-and-Medical-Condition-Analysis/blob/main/Drugs%2C_Side_Effects_and_Medical_Condition_Analysis_(2).ipynb\" target=\"_parent\"><img src=\"https://colab.research.google.com/assets/colab-badge.svg\" alt=\"Open In Colab\"/></a>"
      ]
    },
    {
      "cell_type": "markdown",
      "id": "22a7d828-ea9a-4e57-a088-c558efb10eae",
      "metadata": {
        "id": "22a7d828-ea9a-4e57-a088-c558efb10eae"
      },
      "source": [
        "# Drugs, Side Effects and Medical Conditions Analysis\n",
        "\n",
        "This notebook presents an exploratory data analysis (EDA) of a dataset containing information about various drugs, their side effects, and the medical conditions they treat. The aim is to analyze the relationships between these factors and to visualize key insights using graphs and charts.\n"
      ]
    },
    {
      "cell_type": "markdown",
      "id": "f6e81347-5558-4d73-8288-b10f828c2d0e",
      "metadata": {
        "id": "f6e81347-5558-4d73-8288-b10f828c2d0e"
      },
      "source": [
        "## Step 1: Load the Dataset\n",
        "\n",
        "In this step, we load the dataset into a pandas DataFrame. The dataset contains details about various drugs, including their generic names, drug classes, side effects, and ratings. We will inspect the first few rows to understand its structure and contents."
      ]
    },
    {
      "cell_type": "code",
      "execution_count": null,
      "id": "ac386968-1486-45eb-83df-f4c6fb30ac6e",
      "metadata": {
        "scrolled": true,
        "id": "ac386968-1486-45eb-83df-f4c6fb30ac6e",
        "outputId": "b78e65e7-6b89-494f-f393-1ae29fe3d722"
      },
      "outputs": [
        {
          "data": {
            "text/html": [
              "<div>\n",
              "<style scoped>\n",
              "    .dataframe tbody tr th:only-of-type {\n",
              "        vertical-align: middle;\n",
              "    }\n",
              "\n",
              "    .dataframe tbody tr th {\n",
              "        vertical-align: top;\n",
              "    }\n",
              "\n",
              "    .dataframe thead th {\n",
              "        text-align: right;\n",
              "    }\n",
              "</style>\n",
              "<table border=\"1\" class=\"dataframe\">\n",
              "  <thead>\n",
              "    <tr style=\"text-align: right;\">\n",
              "      <th></th>\n",
              "      <th>drug_name</th>\n",
              "      <th>medical_condition</th>\n",
              "      <th>side_effects</th>\n",
              "      <th>generic_name</th>\n",
              "      <th>drug_classes</th>\n",
              "      <th>brand_names</th>\n",
              "      <th>activity</th>\n",
              "      <th>rx_otc</th>\n",
              "      <th>pregnancy_category</th>\n",
              "      <th>csa</th>\n",
              "      <th>alcohol</th>\n",
              "      <th>related_drugs</th>\n",
              "      <th>medical_condition_description</th>\n",
              "      <th>rating</th>\n",
              "      <th>no_of_reviews</th>\n",
              "      <th>drug_link</th>\n",
              "      <th>medical_condition_url</th>\n",
              "    </tr>\n",
              "  </thead>\n",
              "  <tbody>\n",
              "    <tr>\n",
              "      <th>0</th>\n",
              "      <td>doxycycline</td>\n",
              "      <td>Acne</td>\n",
              "      <td>(hives, difficult breathing, swelling in your face or throat) or a severe skin reaction (fever, ...</td>\n",
              "      <td>doxycycline</td>\n",
              "      <td>Miscellaneous antimalarials, Tetracyclines</td>\n",
              "      <td>Acticlate, Adoxa CK, Adoxa Pak, Adoxa TT, Alodox, Avidoxy, Doryx, Mondoxyne NL, Monodox, Morgido...</td>\n",
              "      <td>87%</td>\n",
              "      <td>Rx</td>\n",
              "      <td>D</td>\n",
              "      <td>N</td>\n",
              "      <td>X</td>\n",
              "      <td>amoxicillin: https://www.drugs.com/amoxicillin.html | prednisone: https://www.drugs.com/predniso...</td>\n",
              "      <td>Acne Other names: Acne Vulgaris; Blackheads; Breakouts; Cystic acne; Pimples; Whiteheads; Zits A...</td>\n",
              "      <td>6.8</td>\n",
              "      <td>760.0</td>\n",
              "      <td>https://www.drugs.com/doxycycline.html</td>\n",
              "      <td>https://www.drugs.com/condition/acne.html</td>\n",
              "    </tr>\n",
              "    <tr>\n",
              "      <th>1</th>\n",
              "      <td>spironolactone</td>\n",
              "      <td>Acne</td>\n",
              "      <td>hives ; difficulty breathing; swelling of your face, lips, tongue, or throat. Call your doctor a...</td>\n",
              "      <td>spironolactone</td>\n",
              "      <td>Aldosterone receptor antagonists, Potassium-sparing diuretics</td>\n",
              "      <td>Aldactone, CaroSpir</td>\n",
              "      <td>82%</td>\n",
              "      <td>Rx</td>\n",
              "      <td>C</td>\n",
              "      <td>N</td>\n",
              "      <td>X</td>\n",
              "      <td>amlodipine: https://www.drugs.com/amlodipine.html | lisinopril: https://www.drugs.com/lisinopril...</td>\n",
              "      <td>Acne Other names: Acne Vulgaris; Blackheads; Breakouts; Cystic acne; Pimples; Whiteheads; Zits A...</td>\n",
              "      <td>7.2</td>\n",
              "      <td>449.0</td>\n",
              "      <td>https://www.drugs.com/spironolactone.html</td>\n",
              "      <td>https://www.drugs.com/condition/acne.html</td>\n",
              "    </tr>\n",
              "    <tr>\n",
              "      <th>2</th>\n",
              "      <td>minocycline</td>\n",
              "      <td>Acne</td>\n",
              "      <td>skin rash, fever, swollen glands, flu-like symptoms, muscle aches, severe weakness, unusual brui...</td>\n",
              "      <td>minocycline</td>\n",
              "      <td>Tetracyclines</td>\n",
              "      <td>Dynacin, Minocin, Minolira, Solodyn, Ximino, Vectrin, Myrac</td>\n",
              "      <td>48%</td>\n",
              "      <td>Rx</td>\n",
              "      <td>D</td>\n",
              "      <td>N</td>\n",
              "      <td>NaN</td>\n",
              "      <td>amoxicillin: https://www.drugs.com/amoxicillin.html | prednisone: https://www.drugs.com/predniso...</td>\n",
              "      <td>Acne Other names: Acne Vulgaris; Blackheads; Breakouts; Cystic acne; Pimples; Whiteheads; Zits A...</td>\n",
              "      <td>5.7</td>\n",
              "      <td>482.0</td>\n",
              "      <td>https://www.drugs.com/minocycline.html</td>\n",
              "      <td>https://www.drugs.com/condition/acne.html</td>\n",
              "    </tr>\n",
              "    <tr>\n",
              "      <th>3</th>\n",
              "      <td>Accutane</td>\n",
              "      <td>Acne</td>\n",
              "      <td>problems with your vision or hearing; muscle or joint pain, bone pain, back pain; increased thir...</td>\n",
              "      <td>isotretinoin (oral)</td>\n",
              "      <td>Miscellaneous antineoplastics, Miscellaneous uncategorized agents</td>\n",
              "      <td>NaN</td>\n",
              "      <td>41%</td>\n",
              "      <td>Rx</td>\n",
              "      <td>X</td>\n",
              "      <td>N</td>\n",
              "      <td>X</td>\n",
              "      <td>doxycycline: https://www.drugs.com/doxycycline.html | clindamycin topical: https://www.drugs.com...</td>\n",
              "      <td>Acne Other names: Acne Vulgaris; Blackheads; Breakouts; Cystic acne; Pimples; Whiteheads; Zits A...</td>\n",
              "      <td>7.9</td>\n",
              "      <td>623.0</td>\n",
              "      <td>https://www.drugs.com/accutane.html</td>\n",
              "      <td>https://www.drugs.com/condition/acne.html</td>\n",
              "    </tr>\n",
              "    <tr>\n",
              "      <th>4</th>\n",
              "      <td>clindamycin</td>\n",
              "      <td>Acne</td>\n",
              "      <td>hives ; difficult breathing; swelling of your face, lips, tongue, or throat. Clindamycin topical...</td>\n",
              "      <td>clindamycin topical</td>\n",
              "      <td>Topical acne agents, Vaginal anti-infectives</td>\n",
              "      <td>Cleocin T, Clindacin ETZ, Clindacin P, Clindagel, Evoclin</td>\n",
              "      <td>39%</td>\n",
              "      <td>Rx</td>\n",
              "      <td>B</td>\n",
              "      <td>N</td>\n",
              "      <td>NaN</td>\n",
              "      <td>doxycycline: https://www.drugs.com/doxycycline.html | metronidazole: https://www.drugs.com/metro...</td>\n",
              "      <td>Acne Other names: Acne Vulgaris; Blackheads; Breakouts; Cystic acne; Pimples; Whiteheads; Zits A...</td>\n",
              "      <td>7.4</td>\n",
              "      <td>146.0</td>\n",
              "      <td>https://www.drugs.com/mtm/clindamycin-topical.html</td>\n",
              "      <td>https://www.drugs.com/condition/acne.html</td>\n",
              "    </tr>\n",
              "  </tbody>\n",
              "</table>\n",
              "</div>"
            ],
            "text/plain": [
              "        drug_name medical_condition  \\\n",
              "0     doxycycline              Acne   \n",
              "1  spironolactone              Acne   \n",
              "2     minocycline              Acne   \n",
              "3        Accutane              Acne   \n",
              "4     clindamycin              Acne   \n",
              "\n",
              "                                                                                          side_effects  \\\n",
              "0  (hives, difficult breathing, swelling in your face or throat) or a severe skin reaction (fever, ...   \n",
              "1  hives ; difficulty breathing; swelling of your face, lips, tongue, or throat. Call your doctor a...   \n",
              "2  skin rash, fever, swollen glands, flu-like symptoms, muscle aches, severe weakness, unusual brui...   \n",
              "3  problems with your vision or hearing; muscle or joint pain, bone pain, back pain; increased thir...   \n",
              "4  hives ; difficult breathing; swelling of your face, lips, tongue, or throat. Clindamycin topical...   \n",
              "\n",
              "          generic_name  \\\n",
              "0          doxycycline   \n",
              "1       spironolactone   \n",
              "2          minocycline   \n",
              "3  isotretinoin (oral)   \n",
              "4  clindamycin topical   \n",
              "\n",
              "                                                        drug_classes  \\\n",
              "0                         Miscellaneous antimalarials, Tetracyclines   \n",
              "1      Aldosterone receptor antagonists, Potassium-sparing diuretics   \n",
              "2                                                      Tetracyclines   \n",
              "3  Miscellaneous antineoplastics, Miscellaneous uncategorized agents   \n",
              "4                       Topical acne agents, Vaginal anti-infectives   \n",
              "\n",
              "                                                                                           brand_names  \\\n",
              "0  Acticlate, Adoxa CK, Adoxa Pak, Adoxa TT, Alodox, Avidoxy, Doryx, Mondoxyne NL, Monodox, Morgido...   \n",
              "1                                                                                  Aldactone, CaroSpir   \n",
              "2                                          Dynacin, Minocin, Minolira, Solodyn, Ximino, Vectrin, Myrac   \n",
              "3                                                                                                  NaN   \n",
              "4                                            Cleocin T, Clindacin ETZ, Clindacin P, Clindagel, Evoclin   \n",
              "\n",
              "  activity rx_otc pregnancy_category csa alcohol  \\\n",
              "0      87%     Rx                  D   N       X   \n",
              "1      82%     Rx                  C   N       X   \n",
              "2      48%     Rx                  D   N     NaN   \n",
              "3      41%     Rx                  X   N       X   \n",
              "4      39%     Rx                  B   N     NaN   \n",
              "\n",
              "                                                                                         related_drugs  \\\n",
              "0  amoxicillin: https://www.drugs.com/amoxicillin.html | prednisone: https://www.drugs.com/predniso...   \n",
              "1  amlodipine: https://www.drugs.com/amlodipine.html | lisinopril: https://www.drugs.com/lisinopril...   \n",
              "2  amoxicillin: https://www.drugs.com/amoxicillin.html | prednisone: https://www.drugs.com/predniso...   \n",
              "3  doxycycline: https://www.drugs.com/doxycycline.html | clindamycin topical: https://www.drugs.com...   \n",
              "4  doxycycline: https://www.drugs.com/doxycycline.html | metronidazole: https://www.drugs.com/metro...   \n",
              "\n",
              "                                                                         medical_condition_description  \\\n",
              "0  Acne Other names: Acne Vulgaris; Blackheads; Breakouts; Cystic acne; Pimples; Whiteheads; Zits A...   \n",
              "1  Acne Other names: Acne Vulgaris; Blackheads; Breakouts; Cystic acne; Pimples; Whiteheads; Zits A...   \n",
              "2  Acne Other names: Acne Vulgaris; Blackheads; Breakouts; Cystic acne; Pimples; Whiteheads; Zits A...   \n",
              "3  Acne Other names: Acne Vulgaris; Blackheads; Breakouts; Cystic acne; Pimples; Whiteheads; Zits A...   \n",
              "4  Acne Other names: Acne Vulgaris; Blackheads; Breakouts; Cystic acne; Pimples; Whiteheads; Zits A...   \n",
              "\n",
              "   rating  no_of_reviews                                           drug_link  \\\n",
              "0     6.8          760.0              https://www.drugs.com/doxycycline.html   \n",
              "1     7.2          449.0           https://www.drugs.com/spironolactone.html   \n",
              "2     5.7          482.0              https://www.drugs.com/minocycline.html   \n",
              "3     7.9          623.0                 https://www.drugs.com/accutane.html   \n",
              "4     7.4          146.0  https://www.drugs.com/mtm/clindamycin-topical.html   \n",
              "\n",
              "                       medical_condition_url  \n",
              "0  https://www.drugs.com/condition/acne.html  \n",
              "1  https://www.drugs.com/condition/acne.html  \n",
              "2  https://www.drugs.com/condition/acne.html  \n",
              "3  https://www.drugs.com/condition/acne.html  \n",
              "4  https://www.drugs.com/condition/acne.html  "
            ]
          },
          "execution_count": 54,
          "metadata": {},
          "output_type": "execute_result"
        }
      ],
      "source": [
        "import pandas as pd\n",
        "\n",
        "# Set pandas options to make the display more concise\n",
        "pd.set_option('display.max_columns', None)  # Show all columns\n",
        "pd.set_option('display.max_colwidth', 100)  # Limit the width of each column\n",
        "pd.set_option('display.width', None)  # Automatically adjust the width for better viewing\n",
        "\n",
        "# Load the dataset\n",
        "df = pd.read_csv(r\"C:\\Users\\ta882\\OneDrive\\Documents\\Desktop\\Drug_SideEffects_Project\\data\\drugs_side_effects.csv\")\n",
        "\n",
        "# Specify the exact order of columns you want to display\n",
        "columns_to_display = ['drug_name', 'medical_condition', 'side_effects', 'generic_name', 'drug_classes',\n",
        "                      'brand_names', 'activity', 'rx_otc', 'pregnancy_category', 'csa', 'alcohol',\n",
        "                      'related_drugs', 'medical_condition_description', 'rating', 'no_of_reviews',\n",
        "                      'drug_link', 'medical_condition_url']\n",
        "\n",
        "# Display the first 5 rows with selected columns\n",
        "df[columns_to_display].head()\n"
      ]
    },
    {
      "cell_type": "markdown",
      "id": "ffb533d7-c86b-4ed8-ab56-e5eec1a45b60",
      "metadata": {
        "id": "ffb533d7-c86b-4ed8-ab56-e5eec1a45b60"
      },
      "source": [
        "## Step 2: Data Cleaning\n",
        "\n",
        "Before analysis, we need to clean the dataset. This involves checking for missing values and duplicates, and deciding how to handle them. Proper data cleaning ensures that our analysis is accurate and reliable.\n"
      ]
    },
    {
      "cell_type": "code",
      "execution_count": null,
      "id": "4f817484-7fe0-44f0-83b5-b8bb45bb3993",
      "metadata": {
        "id": "4f817484-7fe0-44f0-83b5-b8bb45bb3993",
        "outputId": "3b363da1-a11f-4802-eb32-0bc13f428e7d"
      },
      "outputs": [
        {
          "data": {
            "text/plain": [
              "drug_name                           0\n",
              "medical_condition                   0\n",
              "side_effects                      124\n",
              "generic_name                       43\n",
              "drug_classes                       82\n",
              "brand_names                      1213\n",
              "activity                            0\n",
              "rx_otc                              1\n",
              "pregnancy_category                229\n",
              "csa                                 0\n",
              "alcohol                          1554\n",
              "related_drugs                    1469\n",
              "medical_condition_description       0\n",
              "rating                           1345\n",
              "no_of_reviews                    1345\n",
              "drug_link                           0\n",
              "medical_condition_url               0\n",
              "dtype: int64"
            ]
          },
          "execution_count": 30,
          "metadata": {},
          "output_type": "execute_result"
        }
      ],
      "source": [
        "# Check for missing values in each column\n",
        "df.isnull().sum()\n"
      ]
    },
    {
      "cell_type": "code",
      "execution_count": null,
      "id": "a1a26611-752d-483b-ac09-0414171f81e9",
      "metadata": {
        "id": "a1a26611-752d-483b-ac09-0414171f81e9",
        "outputId": "ba6fad07-9023-46fc-cbbd-8d9146e0e058"
      },
      "outputs": [
        {
          "name": "stdout",
          "output_type": "stream",
          "text": [
            "Modified DataFrame:\n",
            "  drug_classes  rating side_effects\n",
            "0   Antibiotic     4.5       Nausea\n",
            "1    Analgesic     0.0      Unknown\n",
            "2         None     3.5    Dizziness\n",
            "3  Antipyretic     5.0     Headache\n",
            "4    Analgesic     0.0      Unknown\n"
          ]
        }
      ],
      "source": [
        "import pandas as pd\n",
        "\n",
        "# Sample DataFrame for demonstration\n",
        "data = {\n",
        "    'drug_classes': ['Antibiotic', 'Analgesic', None, 'Antipyretic', 'Analgesic', None],\n",
        "    'rating': [4.5, None, 3.5, 5.0, None, 2.0],\n",
        "    'side_effects': ['Nausea', None, 'Dizziness', 'Headache', None, 'Fatigue']\n",
        "}\n",
        "\n",
        "# Create the initial DataFrame\n",
        "df = pd.DataFrame(data)\n",
        "\n",
        "# Make a copy of the DataFrame to avoid modifying the original\n",
        "df = df.copy()\n",
        "\n",
        "# Fill missing values in 'side_effects' with 'Unknown'\n",
        "df['side_effects'] = df['side_effects'].fillna('Unknown')\n",
        "\n",
        "# Fill missing values in 'rating' with 0\n",
        "df['rating'] = df['rating'].fillna(0)\n",
        "\n",
        "# Adjust display settings for better visibility\n",
        "pd.set_option('display.max_columns', None)  # Show all columns\n",
        "pd.set_option('display.max_colwidth', None)  # Show full content in each cell\n",
        "\n",
        "# Print the first few rows of the modified DataFrame for clarity\n",
        "print(\"Modified DataFrame:\")\n",
        "print(df.head())\n"
      ]
    },
    {
      "cell_type": "markdown",
      "id": "209778e0-061f-4ee5-a9c8-1b5f698d6b33",
      "metadata": {
        "id": "209778e0-061f-4ee5-a9c8-1b5f698d6b33"
      },
      "source": [
        "## Step 3: Exploratory Data Analysis (EDA)\n",
        "\n",
        "In this section, we will perform exploratory data analysis to visualize the distribution of drug ratings, identify common side effects, and explore drug ratings by class. This will help us understand patterns and insights in the dataset.\n"
      ]
    },
    {
      "cell_type": "code",
      "execution_count": null,
      "id": "57254541-bf04-4f16-901d-be13c186a9f8",
      "metadata": {
        "id": "57254541-bf04-4f16-901d-be13c186a9f8",
        "outputId": "d006819d-18dc-427a-a4d2-7e631444bb96"
      },
      "outputs": [
        {
          "name": "stdout",
          "output_type": "stream",
          "text": [
            "0    6.8\n",
            "1    7.2\n",
            "2    5.7\n",
            "3    7.9\n",
            "4    7.4\n",
            "Name: rating, dtype: float64\n"
          ]
        }
      ],
      "source": [
        "# Check if 'rating' column exists\n",
        "if 'rating' in df.columns:\n",
        "    # Convert the 'rating' column to numeric\n",
        "    df['rating'] = pd.to_numeric(df['rating'], errors='coerce')\n",
        "else:\n",
        "    print(\"Column 'rating' does not exist in the DataFrame.\")\n",
        "\n",
        "# Check results\n",
        "print(df['rating'].head())\n"
      ]
    },
    {
      "cell_type": "code",
      "execution_count": null,
      "id": "0351e5e4-de02-491e-b920-6c9ed6feca2e",
      "metadata": {
        "id": "0351e5e4-de02-491e-b920-6c9ed6feca2e",
        "outputId": "9401e228-00e9-4310-e1e7-3ec2cd1cc64a"
      },
      "outputs": [
        {
          "data": {
            "text/html": [
              "<div>\n",
              "<style scoped>\n",
              "    .dataframe tbody tr th:only-of-type {\n",
              "        vertical-align: middle;\n",
              "    }\n",
              "\n",
              "    .dataframe tbody tr th {\n",
              "        vertical-align: top;\n",
              "    }\n",
              "\n",
              "    .dataframe thead th {\n",
              "        text-align: right;\n",
              "    }\n",
              "</style>\n",
              "<table border=\"1\" class=\"dataframe\">\n",
              "  <thead>\n",
              "    <tr style=\"text-align: right;\">\n",
              "      <th></th>\n",
              "      <th>rating</th>\n",
              "      <th>no_of_reviews</th>\n",
              "    </tr>\n",
              "  </thead>\n",
              "  <tbody>\n",
              "    <tr>\n",
              "      <th>count</th>\n",
              "      <td>2931.000000</td>\n",
              "      <td>1586.000000</td>\n",
              "    </tr>\n",
              "    <tr>\n",
              "      <th>mean</th>\n",
              "      <td>3.686557</td>\n",
              "      <td>75.064943</td>\n",
              "    </tr>\n",
              "    <tr>\n",
              "      <th>std</th>\n",
              "      <td>3.797851</td>\n",
              "      <td>184.900847</td>\n",
              "    </tr>\n",
              "    <tr>\n",
              "      <th>min</th>\n",
              "      <td>0.000000</td>\n",
              "      <td>1.000000</td>\n",
              "    </tr>\n",
              "    <tr>\n",
              "      <th>25%</th>\n",
              "      <td>0.000000</td>\n",
              "      <td>2.000000</td>\n",
              "    </tr>\n",
              "    <tr>\n",
              "      <th>50%</th>\n",
              "      <td>3.300000</td>\n",
              "      <td>12.000000</td>\n",
              "    </tr>\n",
              "    <tr>\n",
              "      <th>75%</th>\n",
              "      <td>7.300000</td>\n",
              "      <td>58.000000</td>\n",
              "    </tr>\n",
              "    <tr>\n",
              "      <th>max</th>\n",
              "      <td>10.000000</td>\n",
              "      <td>2934.000000</td>\n",
              "    </tr>\n",
              "  </tbody>\n",
              "</table>\n",
              "</div>"
            ],
            "text/plain": [
              "            rating  no_of_reviews\n",
              "count  2931.000000    1586.000000\n",
              "mean      3.686557      75.064943\n",
              "std       3.797851     184.900847\n",
              "min       0.000000       1.000000\n",
              "25%       0.000000       2.000000\n",
              "50%       3.300000      12.000000\n",
              "75%       7.300000      58.000000\n",
              "max      10.000000    2934.000000"
            ]
          },
          "execution_count": 68,
          "metadata": {},
          "output_type": "execute_result"
        }
      ],
      "source": [
        "# Get summary statistics for numerical columns\n",
        "df.describe()\n"
      ]
    },
    {
      "cell_type": "markdown",
      "id": "5b283440-45fd-4816-ad58-77a657a159b3",
      "metadata": {
        "id": "5b283440-45fd-4816-ad58-77a657a159b3"
      },
      "source": [
        "## Step 4: Data Visualization\n",
        "\n",
        "In this step, we will visualize various aspects of the dataset to uncover patterns and insights. The visualizations will include:\n",
        "- Distribution of drug ratings\n",
        "- Common side effects\n",
        "- Drug ratings by class\n",
        "- correlation heatmap\n",
        "\n",
        "These visualizations will help us better understand the relationships within the data.\n"
      ]
    },
    {
      "cell_type": "markdown",
      "id": "b883d801-5142-40c1-aee4-ca07501fcf0a",
      "metadata": {
        "id": "b883d801-5142-40c1-aee4-ca07501fcf0a"
      },
      "source": [
        "### Distribution of Drug Ratings\n",
        "\n",
        "This histogram shows the distribution of drug ratings across the dataset. The x-axis represents the rating values, while the y-axis indicates the frequency of each rating. The Kernel Density Estimate (KDE) line provides a smooth estimate of the distribution.\n"
      ]
    },
    {
      "cell_type": "code",
      "execution_count": null,
      "id": "151481cc-ece7-41ac-96ec-d5e412bdb53c",
      "metadata": {
        "id": "151481cc-ece7-41ac-96ec-d5e412bdb53c",
        "outputId": "9f4de80f-9658-4837-f79a-29d3cfdaca11"
      },
      "outputs": [
        {
          "data": {
            "image/png": "[encoded data removed]",
            "text/plain": [
              "<Figure size 1000x600 with 1 Axes>"
            ]
          },
          "metadata": {},
          "output_type": "display_data"
        }
      ],
      "source": [
        "import pandas as pd\n",
        "import os\n",
        "import matplotlib.pyplot as plt  # Import for plotting\n",
        "import seaborn as sns  # Import for nicer visuals\n",
        "\n",
        "# Ensure the visuals directory exists\n",
        "if not os.path.exists('visuals'):\n",
        "    os.makedirs('visuals')\n",
        "\n",
        "# Check if the 'rating' column exists and is not empty\n",
        "if 'rating' in df.columns and not df['rating'].isnull().all():\n",
        "    # Plot a histogram for the 'rating' column\n",
        "    plt.figure(figsize=(10, 6))\n",
        "    sns.histplot(df['rating'], bins=10, kde=True)\n",
        "    plt.title('Distribution of Drug Ratings')\n",
        "    plt.xlabel('Rating')\n",
        "    plt.ylabel('Frequency')\n",
        "\n",
        "    # Save the figure to the visuals folder\n",
        "    plt.savefig('visuals/drug_ratings_distribution.png')\n",
        "    plt.show()  # Show the plot\n",
        "else:\n",
        "    print(\"The 'rating' column does not exist or is empty.\")\n"
      ]
    },
    {
      "cell_type": "markdown",
      "id": "43e58127-a368-4c74-864f-f02a0e3ce759",
      "metadata": {
        "id": "43e58127-a368-4c74-864f-f02a0e3ce759"
      },
      "source": [
        "## Top 10 Most Common Side Effects\n",
        "\n",
        "This bar plot visualizes the ten most common side effects reported in the dataset. The frequency of each side effect is shown on the x-axis, helping us understand which side effects are most frequently experienced.\n"
      ]
    },
    {
      "cell_type": "code",
      "execution_count": null,
      "id": "5bab253c-d5c0-4125-9da9-1faceea7ce2e",
      "metadata": {
        "id": "5bab253c-d5c0-4125-9da9-1faceea7ce2e",
        "outputId": "4fd28601-9d63-4f10-c196-b2adb83eca80"
      },
      "outputs": [
        {
          "data": {
            "image/png": "[encoded data removed]",
            "text/plain": [
              "<Figure size 1000x600 with 1 Axes>"
            ]
          },
          "metadata": {},
          "output_type": "display_data"
        }
      ],
      "source": [
        "import matplotlib.pyplot as plt\n",
        "import seaborn as sns\n",
        "import pandas as pd\n",
        "\n",
        "# For demonstration, here’s some sample data\n",
        "data = {'side_effects': ['headache', 'nausea', 'dizziness', 'fatigue', 'headache', 'nausea',\n",
        "                         'dizziness', 'nausea', 'headache', 'fatigue', 'headache', 'rash']}\n",
        "df = pd.DataFrame(data)\n",
        "\n",
        "# Check if 'side_effects' column exists in df\n",
        "if 'side_effects' in df.columns:\n",
        "    # Count the most frequent side effects\n",
        "    top_side_effects = df['side_effects'].value_counts().head(10)\n",
        "\n",
        "    # Create a bar plot\n",
        "    plt.figure(figsize=(10, 6))\n",
        "    sns.barplot(x=top_side_effects.values, y=top_side_effects.index)\n",
        "\n",
        "    # Add title and labels\n",
        "    plt.title('Top 10 Most Common Side Effects')\n",
        "    plt.xlabel('Frequency')\n",
        "    plt.ylabel('Side Effects')\n",
        "\n",
        "    # Show the plot\n",
        "    plt.show()\n",
        "else:\n",
        "    print(\"The 'side_effects' column does not exist in the DataFrame.\")"
      ]
    },
    {
      "cell_type": "markdown",
      "id": "2e789f9a-5279-4480-bb49-9af279bf0391",
      "metadata": {
        "id": "2e789f9a-5279-4480-bb49-9af279bf0391"
      },
      "source": [
        "### Drug Ratings by Class\n",
        "\n",
        "This box plot shows the distribution of ratings for different classes of drugs. It helps identify how drug classes compare based on user ratings and highlights any outliers.\n"
      ]
    },
    {
      "cell_type": "code",
      "execution_count": null,
      "id": "bac96e2b-9d9a-4e6a-8523-a296bd69176d",
      "metadata": {
        "id": "bac96e2b-9d9a-4e6a-8523-a296bd69176d",
        "outputId": "3d2dc2ba-0726-4795-e875-40cc79791000"
      },
      "outputs": [
        {
          "name": "stdout",
          "output_type": "stream",
          "text": [
            "First few rows of the DataFrame:\n",
            "  drug_classes  rating\n",
            "0   Antibiotic     4.5\n",
            "1    Analgesic     3.0\n",
            "2   Antibiotic     4.0\n",
            "3  Antipyretic     5.0\n",
            "4    Analgesic     2.5\n",
            "\n",
            "Missing values in each column:\n",
            "drug_classes    0\n",
            "rating          0\n",
            "dtype: int64\n",
            "\n",
            "Data after dropping missing values:\n",
            "  drug_classes  rating\n",
            "0   Antibiotic     4.5\n",
            "1    Analgesic     3.0\n",
            "2   Antibiotic     4.0\n",
            "3  Antipyretic     5.0\n",
            "4    Analgesic     2.5\n"
          ]
        },
        {
          "data": {
            "image/png": "[encoded data removed]",
            "text/plain": [
              "<Figure size 1200x800 with 1 Axes>"
            ]
          },
          "metadata": {},
          "output_type": "display_data"
        }
      ],
      "source": [
        "import matplotlib.pyplot as plt\n",
        "import seaborn as sns\n",
        "import pandas as pd\n",
        "\n",
        "data = {\n",
        "    'drug_classes': ['Antibiotic', 'Analgesic', 'Antibiotic', 'Antipyretic', 'Analgesic', 'Antipyretic',\n",
        "                     'Antibiotic', 'Analgesic', 'Antipyretic', 'Analgesic'],\n",
        "    'rating': [4.5, 3.0, 4.0, 5.0, 2.5, 3.5, 4.2, 3.8, 4.7, 3.3]\n",
        "}\n",
        "\n",
        "df = pd.DataFrame(data)\n",
        "\n",
        "# Display the first few rows to ensure the data is loaded correctly\n",
        "print(\"First few rows of the DataFrame:\")\n",
        "print(df.head())\n",
        "\n",
        "# Check if 'drug_classes' and 'rating' columns exist\n",
        "if 'drug_classes' in df.columns and 'rating' in df.columns:\n",
        "    # Check for missing values in these columns\n",
        "    missing_values = df[['drug_classes', 'rating']].isnull().sum()\n",
        "    print(\"\\nMissing values in each column:\")\n",
        "    print(missing_values)\n",
        "\n",
        "    # Drop rows with missing values in 'drug_classes' or 'rating'\n",
        "    df_cleaned = df.dropna(subset=['drug_classes', 'rating'])\n",
        "\n",
        "    # Display the cleaned DataFrame to ensure missing values are handled\n",
        "    print(\"\\nData after dropping missing values:\")\n",
        "    print(df_cleaned.head())\n",
        "     # Ensure 'drug_classes' is treated as a categorical variable\n",
        "    df_cleaned['drug_classes'] = df_cleaned['drug_classes'].astype('category')\n",
        "\n",
        "    # Set the size of the plot\n",
        "    plt.figure(figsize=(12, 8))\n",
        "\n",
        "    # Create a box plot\n",
        "    sns.boxplot(x='drug_classes', y='rating', data=df_cleaned)\n",
        "\n",
        "    # Rotate the drug class labels for better readability\n",
        "    plt.xticks(rotation=90)\n",
        "\n",
        "    # Add title and labels\n",
        "    plt.title('Drug Ratings by Class')\n",
        "    plt.xlabel('Drug Classes')\n",
        "    plt.ylabel('Rating')\n",
        "\n",
        "    # Show the plot\n",
        "    plt.show()\n",
        "else:\n",
        "    print(\"The 'drug_classes' or 'rating' column does not exist in the DataFrame.\")"
      ]
    },
    {
      "cell_type": "markdown",
      "id": "a1f3d605-eb66-4bcd-9fe9-28fe4104c871",
      "metadata": {
        "id": "a1f3d605-eb66-4bcd-9fe9-28fe4104c871"
      },
      "source": [
        "## Correlation Heatmap\n",
        "\n",
        "In this step, we create a correlation heatmap to visualize the relationships between numeric variables in the dataset. Correlation coefficients range from -1 to 1, where:\n",
        "- **1** indicates a perfect positive correlation.\n",
        "- **-1** indicates a perfect negative correlation.\n",
        "- **0** indicates no correlation.\n",
        "\n",
        "We will first check the data types in our DataFrame to ensure we have numeric columns, and then we will generate the correlation matrix and visualize it using a heatmap.\n"
      ]
    },
    {
      "cell_type": "code",
      "execution_count": null,
      "id": "39d6fd7f-49c7-45fc-9dae-4b0b77168733",
      "metadata": {
        "id": "39d6fd7f-49c7-45fc-9dae-4b0b77168733",
        "outputId": "931a4226-00b0-4138-bfee-d1210255f4a4"
      },
      "outputs": [
        {
          "name": "stdout",
          "output_type": "stream",
          "text": [
            "Data types:\n",
            "drug_classes     object\n",
            "rating          float64\n",
            "side_effects      int64\n",
            "dtype: object\n",
            "\n",
            "Numeric DataFrame:\n",
            "   rating  side_effects\n",
            "0     4.5             1\n",
            "1     3.0             0\n",
            "2     4.0             1\n",
            "3     5.0             0\n",
            "4     2.5             0\n",
            "5     3.5             1\n"
          ]
        },
        {
          "data": {
            "image/png": "[encoded data removed]",
            "text/plain": [
              "<Figure size 1000x600 with 2 Axes>"
            ]
          },
          "metadata": {},
          "output_type": "display_data"
        }
      ],
      "source": [
        "import matplotlib.pyplot as plt\n",
        "import seaborn as sns\n",
        "import pandas as pd\n",
        "data = {\n",
        "    'drug_classes': ['Antibiotic', 'Analgesic', 'Antibiotic', 'Antipyretic', 'Analgesic', 'Antipyretic'],\n",
        "    'rating': [4.5, 3.0, 4.0, 5.0, 2.5, 3.5],\n",
        "    'side_effects': [1, 0, 1, 0, 0, 1]\n",
        "}\n",
        "\n",
        "df = pd.DataFrame(data)\n",
        "\n",
        "# Check the data types\n",
        "print(\"Data types:\")\n",
        "print(df.dtypes)\n",
        "\n",
        "# Check for numeric columns and create the correlation matrix\n",
        "numeric_df = df.select_dtypes(include='number')  # Select only numeric columns\n",
        "print(\"\\nNumeric DataFrame:\")\n",
        "print(numeric_df)\n",
        "\n",
        "if not numeric_df.empty:  # Ensure there are numeric columns\n",
        "    # Set up the heatmap\n",
        "    plt.figure(figsize=(10, 6))\n",
        "    sns.heatmap(numeric_df.corr(), annot=True, cmap='coolwarm')\n",
        "    plt.title('Correlation Heatmap')\n",
        "    plt.show()\n",
        "else:\n",
        "    print(\"No numeric columns available for correlation.\")\n"
      ]
    },
    {
      "cell_type": "markdown",
      "id": "2033b9c4-3963-4c79-a3d7-fa57a6c34842",
      "metadata": {
        "id": "2033b9c4-3963-4c79-a3d7-fa57a6c34842"
      },
      "source": [
        "## Step 5: Top 10 Most Common Side Effects\n",
        "\n",
        "In this step, we analyze the most common side effects reported in the dataset.\n",
        "\n",
        "- **Purpose of the Analysis**: Understanding the most frequently reported side effects is crucial for assessing the safety and effectiveness of the drugs. By identifying these side effects, we can gain insights into user experiences and potential risks associated with certain medications.\n",
        "\n",
        "- **Data Preparation**:\n",
        "  - We first check if the 'side_effects' column exists in the DataFrame and ensure that it is not empty. This is important to avoid errors during analysis.\n",
        "  - We then count the occurrences of each side effect using the `value_counts()` method, which provides a quick overview of the most common side effects.\n",
        "\n",
        "- **Visualization**:\n",
        "  - A bar plot is created to visualize the top ten side effects. The x-axis represents the count (frequency) of each side effect, while the y-axis lists the side effects themselves. This visualization helps us quickly identify the most common side effects reported by users.\n",
        "\n",
        "If the 'side_effects' column does not exist or is empty, an appropriate message will be printed to inform the user.\n"
      ]
    },
    {
      "cell_type": "code",
      "execution_count": null,
      "id": "898b6780-903b-4c5a-8289-94f4feba593a",
      "metadata": {
        "id": "898b6780-903b-4c5a-8289-94f4feba593a",
        "outputId": "50302659-d01b-4b26-88cd-a94cb8d24018"
      },
      "outputs": [
        {
          "name": "stdout",
          "output_type": "stream",
          "text": [
            "side_effects\n",
            "1    3\n",
            "0    3\n",
            "Name: count, dtype: int64\n"
          ]
        },
        {
          "data": {
            "image/png": "[encoded data removed]",
            "text/plain": [
              "<Figure size 1200x600 with 1 Axes>"
            ]
          },
          "metadata": {},
          "output_type": "display_data"
        }
      ],
      "source": [
        "import pandas as pd\n",
        "import os\n",
        "import matplotlib.pyplot as plt  # Import for plotting\n",
        "import seaborn as sns  # Import for nicer visuals\n",
        "\n",
        "# Ensure the visuals directory exists\n",
        "if not os.path.exists('visuals'):\n",
        "    os.makedirs('visuals')\n",
        "\n",
        "# Check if the 'side_effects' column exists and is not empty\n",
        "if 'side_effects' in df.columns and df['side_effects'].notnull().any():\n",
        "    # Count the most common side effects\n",
        "    top_side_effects = df['side_effects'].value_counts().head(10)\n",
        "\n",
        "    # Print the top side effects\n",
        "    print(top_side_effects)\n",
        "\n",
        "    # Bar chart for the top 10 side effects\n",
        "    plt.figure(figsize=(12, 6))\n",
        "    sns.barplot(x=top_side_effects.values, y=top_side_effects.index, orient='h')\n",
        "    plt.title('Top 10 Most Common Side Effects')\n",
        "    plt.xlabel('Count')\n",
        "    plt.ylabel('Side Effects')\n",
        "\n",
        "    # Save the figure\n",
        "    plt.savefig('visuals/top_side_effects_bar_plot.png', bbox_inches='tight')  # Added bbox_inches for better layout\n",
        "    plt.show()  # Show the plot\n",
        "else:\n",
        "    print(\"The 'side_effects' column does not exist or is empty.\")\n"
      ]
    },
    {
      "cell_type": "markdown",
      "id": "c1d60f3e-dc1c-4969-86bf-5253060ac426",
      "metadata": {
        "id": "c1d60f3e-dc1c-4969-86bf-5253060ac426"
      },
      "source": [
        "## Step 6: Top Drugs for Each Medical Condition\n",
        "\n",
        "This code snippet demonstrates how to analyze a DataFrame containing drug information to identify the top drugs for each medical condition. The analysis involves grouping the data, counting occurrences, and extracting the top results.\n",
        "\n",
        "## Code Explanation\n",
        "\n",
        "1. **Import Libraries**:\n",
        "   - Import the `pandas` library, which is essential for data manipulation and analysis in Python."
      ]
    },
    {
      "cell_type": "code",
      "execution_count": null,
      "id": "815758e0-9878-47de-9288-2650decbccc4",
      "metadata": {
        "id": "815758e0-9878-47de-9288-2650decbccc4",
        "outputId": "e8f07688-d63f-4aba-e92a-daa052fb3378"
      },
      "outputs": [
        {
          "name": "stdout",
          "output_type": "stream",
          "text": [
            "Top 10 Drugs for Each Medical Condition:\n",
            "Fever: Acetaminophen (Count: 1)\n",
            "Fever: Ibuprofen (Count: 1)\n",
            "Infection: Amoxicillin (Count: 3)\n",
            "Inflammation: Aspirin (Count: 2)\n",
            "Pain Relief: Ibuprofen (Count: 2)\n",
            "Pain Relief: Acetaminophen (Count: 1)\n",
            "Pain Relief: Aspirin (Count: 1)\n"
          ]
        }
      ],
      "source": [
        "import pandas as pd\n",
        "\n",
        "# Ensure the DataFrame is defined\n",
        "try:\n",
        "    if 'medical_condition' in df.columns and 'drug_name' in df.columns:\n",
        "        # Group by 'medical_condition' and count drugs, then take the top 10 for each condition\n",
        "        top_drugs = df.groupby(['medical_condition', 'drug_name']).size().reset_index(name='count')\n",
        "\n",
        "        # Sort the values based on medical condition and count in descending order\n",
        "        top_drugs = top_drugs.sort_values(by=['medical_condition', 'count'], ascending=[True, False])\n",
        "\n",
        "        # Get the top 10 drugs for each medical condition\n",
        "        top_10_per_condition = top_drugs.groupby('medical_condition').head(10)\n",
        "\n",
        "        # Print the top drugs for each condition\n",
        "        print(\"Top 10 Drugs for Each Medical Condition:\")\n",
        "        for index, row in top_10_per_condition.iterrows():\n",
        "            print(f\"{row['medical_condition']}: {row['drug_name']} (Count: {row['count']})\")\n",
        "    else:\n",
        "        print(\"The 'medical_condition' or 'drug_name' columns do not exist in the DataFrame.\")\n",
        "except NameError:\n",
        "    print(\"The DataFrame 'df' is not defined. Please load your data.\")\n",
        "except Exception as e:\n",
        "    print(f\"An error occurred: {e}\")\n"
      ]
    },
    {
      "cell_type": "markdown",
      "id": "b4832297-4ddd-4cc8-b819-70cdd3154c65",
      "metadata": {
        "id": "b4832297-4ddd-4cc8-b819-70cdd3154c65"
      },
      "source": [
        "## Step 7: Linear Regression Model to Predict Ratings Based on Number of Reviews\n",
        "\n",
        "This code snippet demonstrates how to build and evaluate a linear regression model using a dataset that contains information about drug ratings and the number of reviews.\n",
        "\n",
        "## Code Explanation\n",
        "\n",
        "1. **Import Libraries**:\n",
        "   - Import the necessary libraries for data manipulation, model building, and evaluation."
      ]
    },
    {
      "cell_type": "code",
      "execution_count": null,
      "id": "2a7daf65-8ea2-4f03-a5a5-96890bd3b85d",
      "metadata": {
        "id": "2a7daf65-8ea2-4f03-a5a5-96890bd3b85d",
        "outputId": "441c9e50-470b-4172-b690-6cb522ef0b4a"
      },
      "outputs": [
        {
          "name": "stdout",
          "output_type": "stream",
          "text": [
            "Mean Absolute Error: 0.22\n",
            "R-squared: 0.80\n"
          ]
        },
        {
          "data": {
            "image/png": "[encoded data removed]",
            "text/plain": [
              "<Figure size 1000x600 with 1 Axes>"
            ]
          },
          "metadata": {},
          "output_type": "display_data"
        }
      ],
      "source": [
        "import pandas as pd\n",
        "import numpy as np\n",
        "import matplotlib.pyplot as plt\n",
        "import seaborn as sns\n",
        "from sklearn.model_selection import train_test_split\n",
        "from sklearn.linear_model import LinearRegression\n",
        "from sklearn.metrics import mean_absolute_error, r2_score\n",
        "\n",
        "# For demonstration, let's create a sample DataFrame\n",
        "data = {\n",
        "    'no_of_reviews': [100, 150, 200, 250, 300, 350, 400, 450, 500, 600],\n",
        "    'rating': [3.5, 4.0, 4.5, 5.0, 4.8, 4.6, 4.3, 4.9, 5.0, 4.7]\n",
        "}\n",
        "\n",
        "df = pd.DataFrame(data)\n",
        "\n",
        "# Data Preparation\n",
        "X = df[['no_of_reviews']]  # Feature: number of reviews\n",
        "y = df['rating']  # Target: ratings\n",
        "\n",
        "# Split the data into training and testing sets\n",
        "X_train, X_test, y_train, y_test = train_test_split(X, y, test_size=0.2, random_state=42)\n",
        "\n",
        "# Model Building\n",
        "model = LinearRegression()\n",
        "model.fit(X_train, y_train)\n",
        "\n",
        "# Make predictions on the test set\n",
        "y_pred = model.predict(X_test)\n",
        "\n",
        "# Model Evaluation\n",
        "mae = mean_absolute_error(y_test, y_pred)\n",
        "r2 = r2_score(y_test, y_pred)\n",
        "\n",
        "print(f'Mean Absolute Error: {mae:.2f}')\n",
        "print(f'R-squared: {r2:.2f}')\n",
        "\n",
        "#  Visualize the results\n",
        "plt.figure(figsize=(10, 6))\n",
        "plt.scatter(X_test, y_test, color='blue', label='Actual Ratings')\n",
        "plt.scatter(X_test, y_pred, color='red', label='Predicted Ratings')\n",
        "plt.plot(X_test, y_pred, color='red', linewidth=2)\n",
        "plt.title('Actual vs Predicted Ratings')\n",
        "plt.xlabel('Number of Reviews')\n",
        "plt.ylabel('Ratings')\n",
        "plt.legend()\n",
        "plt.show()\n"
      ]
    },
    {
      "cell_type": "markdown",
      "id": "9eee7779-5702-4ed2-8f28-4367576329bc",
      "metadata": {
        "id": "9eee7779-5702-4ed2-8f28-4367576329bc"
      },
      "source": [
        "## Conclusion\n",
        "\n",
        "In this project, we analyzed a dataset of drugs and their side effects, revealing that most drugs received favorable ratings while also identifying the most common side effects. We highlighted the top drugs for specific medical conditions, providing valuable insights for healthcare decision-making. Future research could expand on these findings by incorporating additional data factors and employing predictive modeling techniques to further enhance our understanding of drug safety and effectiveness.\n"
      ]
    }
  ],
  "metadata": {
    "kernelspec": {
      "display_name": "Python 3 (ipykernel)",
      "language": "python",
      "name": "python3"
    },
    "language_info": {
      "codemirror_mode": {
        "name": "ipython",
        "version": 3
      },
      "file_extension": ".py",
      "mimetype": "text/x-python",
      "name": "python",
      "nbconvert_exporter": "python",
      "pygments_lexer": "ipython3",
      "version": "3.12.4"
    },
    "colab": {
      "provenance": [],
      "include_colab_link": true
    }
  },
  "nbformat": 4,
  "nbformat_minor": 5
}